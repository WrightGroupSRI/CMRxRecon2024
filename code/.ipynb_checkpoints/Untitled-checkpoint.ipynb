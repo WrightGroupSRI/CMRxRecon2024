{
 "cells": [
  {
   "cell_type": "code",
   "execution_count": 1,
   "id": "f79d2737-0a96-40fa-9d55-cb2a4096e656",
   "metadata": {},
   "outputs": [],
   "source": [
    "from cmrxrecon.dl.AllContrastDataModule import AllContrastDataModule, ZeroPadKSpace, NormalizeKSpace\n",
    "from cmrxrecon.dl.datalo\n",
    "aders.AllContrastDataset import AllContrastDataset\n",
    "from torchvision.transforms import Compose"
   ]
  },
  {
   "cell_type": "code",
   "execution_count": 2,
   "id": "389f5338-b529-4735-8a48-fdc92d000961",
   "metadata": {},
   "outputs": [],
   "source": [
    " data_module = AllContra\n",
    "stDataModule(data_dir='/home/kadotab/scratch/MICCAIChallenge2024/ChallengeData/MultiCoil/',\n",
    "                                     batch_size=1)"
   ]
  },
  {
   "cell_type": "code",
   "execution_count": 3,
   "id": "e5cf1f30-eddb-49db-9bbb-811bbd8722c9",
   "metadata": {},
   "outputs": [
    {
     "name": "stdout",
     "output_type": "stream",
     "text": [
      "Counting Slices in cine_lvot\n",
      "Found 193 slices!\n",
      "Counting Slices in cine_lax\n",
      "Found 585 slices!\n",
      "Counting Slices in cine_sax\n",
      "Found 1809 slices!\n",
      "Counting Slices in aorta_sag\n",
      "Found 1191 slices!\n",
      "Counting Slices in aorta_tra\n",
      "Found 1202 slices!\n",
      "Counting Slices in T1map\n",
      "Found 1570 slices!\n"
     ]
    }
   ],
   "source": [
    "all_contrast_full = AllContrastDataset(\n",
    "                '/home/kadotab/scratch/MICCAIChallenge2024/ChallengeData/MultiCoil/', \n",
    "                train=True,\n",
    "                task_one=False,\n",
    "                transforms=Compose([NormalizeKSpace(), ZeroPadKSpace()])\n",
    "                )\n"
   ]
  },
  {
   "cell_type": "code",
   "execution_count": null,
   "id": "e7150b86-e65b-4028-ba50-7133f31ea201",
   "metadata": {},
   "outputs": [],
   "source": [
    "data_module.setup('train')"
   ]
  },
  {
   "cell_type": "code",
   "execution_count": null,
   "id": "61496ab5-cee6-43b6-84ce-84e6200cea00",
   "metadata": {},
   "outputs": [],
   "source": [
    "train_dataset = data_module.train_dataloader()"
   ]
  },
  {
   "cell_type": "code",
   "execution_count": null,
   "id": "71954c09-5d94-4ea6-a46b-474ef87d722d",
   "metadata": {},
   "outputs": [],
   "source": [
    "data = next(iter(train_dataset))"
   ]
  },
  {
   "cell_type": "code",
   "execution_count": 6,
   "id": "02c0c8bd-b3f3-4d52-95f1-8b9edea01aa0",
   "metadata": {},
   "outputs": [],
   "source": [
    "import matplotlib.pyplot as plt"
   ]
  },
  {
   "cell_type": "code",
   "execution_count": null,
   "id": "551e32b8-6889-43a5-b30c-57aa1a72063b",
   "metadata": {},
   "outputs": [],
   "source": [
    "us, fs, sense = data"
   ]
  },
  {
   "cell_type": "code",
   "execution_count": 7,
   "id": "bfa9bad9-5a67-4f41-97d8-0620b326a3ac",
   "metadata": {},
   "outputs": [],
   "source": [
    "from torchvision.utils import make_grid\n",
    "import numpy as np"
   ]
  },
  {
   "cell_type": "code",
   "execution_count": null,
   "id": "5f9fa3ad-a63f-46bf-9ba8-9531c67070bd",
   "metadata": {},
   "outputs": [],
   "source": [
    "plt.imshow(np.abs(sense[0, 0, 0, :, :]))"
   ]
  },
  {
   "cell_type": "code",
   "execution_count": null,
   "id": "fc532e68-0349-4e3b-9476-f0f62774d706",
   "metadata": {},
   "outputs": [],
   "source": [
    "us, fs, sense = all_contrast_full[0]"
   ]
  },
  {
   "cell_type": "code",
   "execution_count": null,
   "id": "e30a9223-4b85-446b-b0ef-49893d0cf55f",
   "metadata": {},
   "outputs": [],
   "source": [
    "plt.imshow(np.abs(sense[ 0, 0, :, :]))"
   ]
  }
 ],
 "metadata": {
  "kernelspec": {
   "display_name": "Python 3 (ipykernel)",
   "language": "python",
   "name": "python3"
  },
  "language_info": {
   "codemirror_mode": {
    "name": "ipython",
    "version": 3
   },
   "file_extension": ".py",
   "mimetype": "text/x-python",
   "name": "python",
   "nbconvert_exporter": "python",
   "pygments_lexer": "ipython3",
   "version": "3.11.5"
  }
 },
 "nbformat": 4,
 "nbformat_minor": 5
}
